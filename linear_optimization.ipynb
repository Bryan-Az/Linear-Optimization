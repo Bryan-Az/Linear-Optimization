{
 "cells": [
  {
   "cell_type": "code",
   "execution_count": 3,
   "metadata": {},
   "outputs": [
    {
     "name": "stdout",
     "output_type": "stream",
     "text": [
      "Collecting ortools\n",
      "  Using cached ortools-9.8.3296-cp38-cp38-macosx_10_15_x86_64.whl.metadata (2.9 kB)\n",
      "Collecting absl-py>=2.0.0 (from ortools)\n",
      "  Using cached absl_py-2.0.0-py3-none-any.whl.metadata (2.3 kB)\n",
      "Requirement already satisfied: numpy>=1.13.3 in /Users/mocha/miniconda3/envs/mamba/envs/ts-torch/lib/python3.8/site-packages (from ortools) (1.23.5)\n",
      "Requirement already satisfied: pandas>=2.0.0 in /Users/mocha/miniconda3/envs/mamba/envs/ts-torch/lib/python3.8/site-packages (from ortools) (2.0.3)\n",
      "Collecting protobuf>=4.25.0 (from ortools)\n",
      "  Using cached protobuf-4.25.1-cp37-abi3-macosx_10_9_universal2.whl.metadata (541 bytes)\n",
      "Requirement already satisfied: python-dateutil>=2.8.2 in /Users/mocha/miniconda3/envs/mamba/envs/ts-torch/lib/python3.8/site-packages (from pandas>=2.0.0->ortools) (2.8.2)\n",
      "Requirement already satisfied: pytz>=2020.1 in /Users/mocha/miniconda3/envs/mamba/envs/ts-torch/lib/python3.8/site-packages (from pandas>=2.0.0->ortools) (2023.3.post1)\n",
      "Requirement already satisfied: tzdata>=2022.1 in /Users/mocha/miniconda3/envs/mamba/envs/ts-torch/lib/python3.8/site-packages (from pandas>=2.0.0->ortools) (2023.3)\n",
      "Requirement already satisfied: six>=1.5 in /Users/mocha/miniconda3/envs/mamba/envs/ts-torch/lib/python3.8/site-packages (from python-dateutil>=2.8.2->pandas>=2.0.0->ortools) (1.16.0)\n",
      "Using cached ortools-9.8.3296-cp38-cp38-macosx_10_15_x86_64.whl (18.0 MB)\n",
      "Using cached absl_py-2.0.0-py3-none-any.whl (130 kB)\n",
      "Using cached protobuf-4.25.1-cp37-abi3-macosx_10_9_universal2.whl (394 kB)\n",
      "Installing collected packages: protobuf, absl-py, ortools\n",
      "  Attempting uninstall: protobuf\n",
      "    Found existing installation: protobuf 3.20.3\n",
      "    Uninstalling protobuf-3.20.3:\n",
      "      Successfully uninstalled protobuf-3.20.3\n",
      "Successfully installed absl-py-2.0.0 ortools-9.8.3296 protobuf-4.25.1\n",
      "\n"
     ]
    }
   ],
   "source": [
    "! conda run -n ts-torch pip install ortools"
   ]
  },
  {
   "cell_type": "code",
   "execution_count": 4,
   "metadata": {},
   "outputs": [],
   "source": [
    "from ortools.linear_solver import pywraplp"
   ]
  },
  {
   "cell_type": "markdown",
   "metadata": {},
   "source": [
    "# Optimization of Linear Equations \n",
    "The goal is to maximize the objective function subject to the constraints.\n",
    "1. Using a simple linear equation\n",
    "2. Using a linear equation with mixed variables"
   ]
  },
  {
   "cell_type": "markdown",
   "metadata": {},
   "source": [
    "## For the linear equations with no mixed integers\n",
    "**Equation**: 3x + 4y\n",
    "\n",
    "**Constraints**:\n",
    "\n",
    "> x+2y <= 14\n",
    "\n",
    "> 3x-y >= 0\n",
    "\n",
    "> x-y <= 2"
   ]
  },
  {
   "cell_type": "code",
   "execution_count": 7,
   "metadata": {},
   "outputs": [],
   "source": [
    "def linear_optim_part1():\n",
    "    \"\"\"\n",
    "    constraints: list of lists, each inner list is a constraint of the form [a, b, c]   \n",
    "    \"\"\"\n",
    "    solver = pywraplp.Solver.CreateSolver('GLOP')\n",
    "    # Create the variables x and y.\n",
    "    x = solver.NumVar(0, solver.infinity(), 'x')\n",
    "    y = solver.NumVar(0, solver.infinity() , 'y')\n",
    "\n",
    "    constraints = [solver.Add(x + 2 * y <= 14.0), solver.Add(3 * x - y >= 0.0), solver.Add(x - y <= 2.0)]    \n",
    "    # set the objective\n",
    "    solver.Maximize(3 * x + 4 * y)\n",
    "    # invoke the solver\n",
    "    status = solver.Solve()\n",
    "    # return the results is status is optimal\n",
    "    if status == pywraplp.Solver.OPTIMAL:\n",
    "        return x.solution_value(), y.solution_value()\n",
    "    else:\n",
    "        print('The problem does not have an optimal solution.')\n",
    "        return None, None\n"
   ]
  },
  {
   "cell_type": "code",
   "execution_count": 8,
   "metadata": {},
   "outputs": [
    {
     "data": {
      "text/plain": [
       "(5.999999999999998, 3.9999999999999996)"
      ]
     },
     "execution_count": 8,
     "metadata": {},
     "output_type": "execute_result"
    }
   ],
   "source": [
    "linear_optim_part1()"
   ]
  },
  {
   "cell_type": "code",
   "execution_count": null,
   "metadata": {},
   "outputs": [],
   "source": []
  }
 ],
 "metadata": {
  "kernelspec": {
   "display_name": "ts-torch",
   "language": "python",
   "name": "python3"
  },
  "language_info": {
   "codemirror_mode": {
    "name": "ipython",
    "version": 3
   },
   "file_extension": ".py",
   "mimetype": "text/x-python",
   "name": "python",
   "nbconvert_exporter": "python",
   "pygments_lexer": "ipython3",
   "version": "3.8.18"
  }
 },
 "nbformat": 4,
 "nbformat_minor": 2
}
